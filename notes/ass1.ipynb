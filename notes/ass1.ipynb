{
 "cells": [
  {
   "cell_type": "markdown",
   "metadata": {},
   "source": [
    "Open in [nbviewer](https://nbviewer.jupyter.org/github/luiarthur/ucsc_litreview/blob/master/notes/ass1.ipynb)\n",
    "$\n",
    "% Latex definitions\n",
    "% note: Ctrl-shfit-p for shortcuts menu\n",
    "\\newcommand{\\iid}{\\overset{iid}{\\sim}}\n",
    "\\newcommand{\\ind}{\\overset{ind}{\\sim}}\n",
    "\\newcommand{\\p}[1]{\\left(#1\\right)}\n",
    "\\newcommand{\\bk}[1]{\\left[#1\\right]}\n",
    "\\newcommand{\\bc}[1]{ \\left\\{#1\\right\\} }\n",
    "\\newcommand{\\abs}[1]{ \\left|#1\\right| }\n",
    "\\newcommand{\\norm}[1]{ \\left|\\left|#1\\right|\\right| }\n",
    "\\newcommand{\\E}{ \\text{E} }\n",
    "\\newcommand{\\N}{ \\mathcal N }\n",
    "\\newcommand{\\ds}{ \\displaystyle }\n",
    "\\newcommand{\\given}{\\bigg{|}}\n",
    "\\newcommand{\\Bin}{\\text{Bin}}\n",
    "\\newcommand{\\Poi}{\\text{Poi}}\n",
    "\\newcommand{\\sums}{\\sum_{s=1}^S}\n",
    "\\newcommand{\\prods}{\\prod_{s=1}^S}\n",
    "$"
   ]
  },
  {
   "cell_type": "markdown",
   "metadata": {},
   "source": [
    "# Derive Full Conditionals in Assignment 1\n",
    "\n",
    "$$\n",
    "\\begin{array}{rcl}\n",
    "\\sigma^2 \\mid ... &\\sim& IG\\ds\\p{a_\\sigma+\\frac{S}{2}, b_\\sigma + \\frac{\\sums \\bk{\\phi_s - \\log y_s}^2}{2}}\\\\\n",
    "\\phi \\mid ... &\\sim& \\N\\p{\\ds\\frac{m_\\phi\\sigma^2+(\\log y_s)s_\\phi^2}{s_\\phi^2+\\sigma^2},\\ds\\frac{s_\\phi^2\\sigma^2}{s_\\phi^2+\\sigma^2}} \\\\\n",
    "p(\\mu\\mid...) &\\propto& \\ds\\prods p_s^{n_{1s}}(1-p_s)^{N_{1s}-n_{1s}} \\\\\n",
    "p(v_s\\mid...) &\\propto& p(v_s|G) \\mathcal{L} \\\\\n",
    "p(G\\mid...) &\\propto& p(v_s|G) p(G) \\\\\n",
    "\\end{array}\n",
    "$$\n",
    "\n",
    "where \n",
    "- $y_s = \\ds\\frac{N_{1s}}{N_{0s}z_s}$\n",
    "- $z_s = \\ds\\frac{2(1-\\mu)+\\mu M_s}{2}$ "
   ]
  },
  {
   "cell_type": "code",
   "execution_count": null,
   "metadata": {
    "collapsed": true
   },
   "outputs": [],
   "source": []
  }
 ],
 "metadata": {
  "kernelspec": {
   "display_name": "Julia 0.4.0",
   "language": "julia",
   "name": "julia-0.4"
  }
 },
 "nbformat": 4,
 "nbformat_minor": 0
}
