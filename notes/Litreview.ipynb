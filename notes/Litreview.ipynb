{
 "cells": [
  {
   "cell_type": "markdown",
   "metadata": {},
   "source": [
    "Open in [nbviewer](https://nbviewer.jupyter.org/github/luiarthur/ucsc_litreview/blob/master/notes/Litreview.ipynb)\n",
    "$\n",
    "% Latex definitions\n",
    "% note: Ctrl-shfit-p for shortcuts menu\n",
    "\\newcommand{\\iid}{\\overset{iid}{\\sim}}\n",
    "\\newcommand{\\ind}{\\overset{ind}{\\sim}}\n",
    "\\newcommand{\\p}[1]{\\left(#1\\right)}\n",
    "\\newcommand{\\bk}[1]{\\left[#1\\right]}\n",
    "\\newcommand{\\bc}[1]{ \\left\\{#1\\right\\} }\n",
    "\\newcommand{\\abs}[1]{ \\left|#1\\right| }\n",
    "\\newcommand{\\norm}[1]{ \\left|\\left|#1\\right|\\right| }\n",
    "\\newcommand{\\E}{ \\text{E} }\n",
    "\\newcommand{\\N}{ \\mathcal N }\n",
    "\\newcommand{\\ds}{ \\displaystyle }\n",
    "\\newcommand{\\given}{\\bigg{|}}\n",
    "\\newcommand{\\Bin}{\\text{Bin}}\n",
    "\\newcommand{\\Poi}{\\text{Poi}}\n",
    "$"
   ]
  },
  {
   "cell_type": "markdown",
   "metadata": {},
   "source": [
    "# [Bayesian inference for intratumour heterogeneity in mutations and copy number variation](../pdf/bayesTumor.pdf)"
   ]
  },
  {
   "cell_type": "markdown",
   "metadata": {
    "collapsed": true
   },
   "source": [
    "## Glossary\n",
    "\n",
    "**somatic**: relating to the body\n",
    "\n",
    "**Variant allelic fractions (VAF)**\n",
    "\n",
    "**next-generation sequencing**: \n",
    "Several new methods for DNA sequencing were developed in the mid to late 1990s and were implemented in commercial DNA sequencers by the year 2000. Together these were called the \"next-generation\" sequencing methods.\n",
    "\n",
    "**Copy number variants (CNV) **\n",
    "\n",
    "***"
   ]
  },
  {
   "cell_type": "markdown",
   "metadata": {
    "collapsed": true
   },
   "source": [
    "- L describes the subclonal copy numbers\n",
    "- Z describes the numbers of subclonal variant alleles (can there be \"2\"?)\n",
    "- w describes the cellular fractions of subclones\n",
    "\n",
    "This table represents the truth underlying the\n",
    "hypothetical scenario shown in Figure 1a. \n",
    "\n",
    "| Locus | subclone1 | subclone2 | subclone3 | normal Clone |\n",
    "|:----: |:---:      |:---:      |:---:      |:---:   |\n",
    "|**L**  |\n",
    "| 1 | 2 | 3 | 3 | 2 | \n",
    "| 2 | 2 | 2 | 2 | 2 | \n",
    "| 3 | 2 | **3** | 4 | 2 | \n",
    "|**Z**  |\n",
    "| 1 | 0 | 1 | 1 | 0 |\n",
    "| 2 | 1 | 0 | 1 | 0 | \n",
    "| 3 | 0 | 0 | 0 | 0 |\n",
    "|**w**  |\n",
    "| $t_1$ | 30% | 0%  | 0%  | 70% |\n",
    "| $t_2$ | 30% | 15% | 0%  | 55% |\n",
    "| $t_3$ | 20% | 15% | 10% | 55% |\n",
    "\n",
    "### Issues\n",
    "- The bolded number is 3 (because it is hypothetical), but should be 2 if it represents the truth.\n",
    "- The $w$ matrix in Figure 1a should be labelled differently so as to not confuse readers. The rows of $w$ correponds to time, not loci.\n",
    "- Figure 1a: Difficult to distinguish between the green and brown for color-deficient readers."
   ]
  },
  {
   "cell_type": "markdown",
   "metadata": {},
   "source": [
    "### Existing Methods\n",
    "\n",
    "- THetA considers only subclonal copy numbers\n",
    "- TrAp emphasizes identifiability and sufficient sample size for unique mathematical solutions\n",
    "- SciClone and Clomial assume a binary matrix, focusing on SNVs at copy neutral regions with heterozygous mutations\n",
    "- PhyloSub and PhyloWGS consider possible genotypes at SNVs accounting for potential copy number changes and phylogenetic constraints\n",
    "- CloneHD provides inference that is **similar to our method** but **assumes the availability of data from matched normal samples**\n",
    "    - provides only point estimates of the subclonal copy numbers and subclonal mutations\n",
    "- PyClone and CHAT adjust the estimation of subclonal cellular fractions for both CNVs and SNVs\n",
    "    - stop short of directly inferring subclonal copy numbers or variant allele counts"
   ]
  },
  {
   "cell_type": "markdown",
   "metadata": {
    "collapsed": true
   },
   "source": [
    "# Method\n",
    "\n",
    "### Notation\n",
    "- $S$: number of Loci (known and fixed)\n",
    "- $C$: number of subclones (unknown & random)\n",
    "- $T$: number of samples (either collected at different times, or spatial locations of tumor)\n",
    "- $\\underset{S\\times C}{L}$: integer-valued random matrix to characterize subclonal copy numbers\n",
    "    - $l_{sc} = $ the number of alleles (aka copy number) at loci $s$ for subclone $c$.\n",
    "    - $l_{sc} \\in \\bc{1,...,Q}$, predetermined finite $Q$\n",
    "    - prior for $L$ is a finite version of categorical-IBP (CIBP)\n",
    "- $\\underset{S\\times C}{Z}$: integer-valued random matrix to record SNVs\n",
    "    - $z_{sc} = $ the number of alleles that bear a variant sequence (w.r.t. a reference / normal clone) at loci $s$ for subclone $c$.\n",
    "    - $z_{sc} \\le l_{sc}$, just think about it\n",
    "- $\\displaystyle\\frac{z_{sc}}{l_{sc}} = $ the VAF at loci $s$ for subclone $c$\n",
    "- $\\underset{T \\times C}{w}$: Matrix of proportions\n",
    "    - $w_{tc}$ Cellular fractions of the subclone $c$ at time or location $t$"
   ]
  },
  {
   "cell_type": "markdown",
   "metadata": {
    "collapsed": true
   },
   "source": [
    "# Model\n",
    "\n",
    "$$\n",
    "\\begin{split}\n",
    "n_{st} ~|~ N_{st}, p_{st} &\\ind \\Bin(N_{st},p_{st}) \\\\\n",
    "N_{st} ~|~ \\phi_t, M_{st} &\\ind \\Poi(\\phi_t M_{st}/2) \\\\\n",
    "\\end{split}\n",
    "$$\n",
    "\n",
    "- The factor $\\phi_t$ is the expected number of reads in sample $t$ if there were no CNV, i.e. the copy number equals 2.\n",
    "    - Need prior for $\\phi_t$\n",
    "- $p_{st}$ is the probability of observing a read with a variant sequence. (derived from $L$, $Z$, $w$)\n",
    "- $M_{st}$ is the sample copy number that represents an average copy number across subclones. (derived from  $L$)\n",
    "$$\n",
    "\\begin{split}\n",
    "M_{st} &= l_{s0}w_{t0} + \\ds\\sum_{c=1}^C  l_{sc}w_{tc} \\\\\n",
    "&= l_{s0}w_{t0} + \\mathbf{l_s'w_t}\n",
    "\\end{split}\n",
    "$$\n",
    "\n",
    "- $l_{s0}$: the expected copy number from a hypothetical background subclone to account for potential noise and artefacts in the data, labelled as subclone $c=0$. Arbitrarily, assume no copy number loss, i.e. $l_{s0}=2$."
   ]
  },
  {
   "cell_type": "markdown",
   "metadata": {
    "collapsed": true
   },
   "source": [
    "### Prior on $L$\n",
    "\n",
    "- $\\mathbf{\\pi_c} = \\p{\\pi_{c0},...\\pi_{cQ}}$, where $\\pi_{cq} = P(l_{sc} = q)$, **the same across all $S$ loci**?\n",
    "- $\\pi_{c\\bullet} = 1$\n",
    "- place beta–Dirichlet distribution (Kim et al. 2012) on $\\pi_{c\\bullet}$\n",
    "- $\\mathbf{\\tilde\\pi_c} = \\p{\\tilde\\pi_{c0},...\\tilde\\pi_{cQ}}$, where $\\tilde\\pi_{cq} = \\ds\\frac{\\pi_{cq}}{1-\\pi_{c2}}$\n",
    "- $\\pi_c \\iid \\text{Be-Dir}\\p{\\alpha/C,\\beta,\\gamma_0,...,\\gamma_Q} \\implies$\n",
    "    - $\\pi_{c2} | C \\iid \\text{Beta}(\\beta,\\alpha/C)$\n",
    "    - $\\tilde\\pi_c \\iid \\text{Dir}\\p{\\gamma_0,...,\\gamma_Q}$\n",
    "- with $\\beta=1$ and $C \\rightarrow \\infty$, and dropping all cloumns that are all-2's, then left order, then you get CIBP.\n",
    "    - i.e., $L \\sim CIBP$, any parameters?"
   ]
  },
  {
   "cell_type": "code",
   "execution_count": null,
   "metadata": {
    "collapsed": true
   },
   "outputs": [],
   "source": []
  }
 ],
 "metadata": {
  "kernelspec": {
   "display_name": "Julia 0.5.0",
   "language": "julia",
   "name": "julia-0.5"
  },
  "language_info": {
   "file_extension": ".jl",
   "mimetype": "application/julia",
   "name": "julia",
   "version": "0.5.0"
  }
 },
 "nbformat": 4,
 "nbformat_minor": 0
}
