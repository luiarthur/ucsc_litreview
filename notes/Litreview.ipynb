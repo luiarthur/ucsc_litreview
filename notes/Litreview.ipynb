{
 "cells": [
  {
   "cell_type": "markdown",
   "metadata": {},
   "source": [
    "Open in [nbviewer](https://nbviewer.jupyter.org/github/luiarthur/ucsc_litreview/blob/master/notes/Litreview.ipynb)"
   ]
  },
  {
   "cell_type": "markdown",
   "metadata": {},
   "source": [
    "# [Bayesian inference for intratumour heterogeneity in mutations and copy number variation](../pdf/bayesTumor.pdf)"
   ]
  },
  {
   "cell_type": "markdown",
   "metadata": {
    "collapsed": true
   },
   "source": [
    "## Glossary\n",
    "\n",
    "**somatic**: relating to the body\n",
    "\n",
    "**Variant allelic fractions (VAF)**\n",
    "\n",
    "**next-generation sequencing**: \n",
    "Several new methods for DNA sequencing were developed in the mid to late 1990s and were implemented in commercial DNA sequencers by the year 2000. Together these were called the \"next-generation\" sequencing methods.\n",
    "\n",
    "***"
   ]
  },
  {
   "cell_type": "markdown",
   "metadata": {
    "collapsed": true
   },
   "source": [
    "Figure 1a: Can't really distinguish between the green and brown.\n",
    "\n",
    "- L describes the subclonal copy numbers\n",
    "- Z describes the numbers of subclonal variant alleles (can there be \"2\"?)\n",
    "- w describes the cellular fractions of subclones\n",
    "\n",
    "\n",
    "This table represents the truth underlying the\n",
    "hypothetical scenario shown in Figure 1a. \n",
    "\n",
    "| Locus | subclone1 | subclone2 | subclone3 | normal Clone |\n",
    "|:----: |:---:      |:---:      |:---:      |:---:   |\n",
    "|**L**  |\n",
    "| 1 | 2 | 3 | 3 | 2 | \n",
    "| 2 | 2 | 2 | 2 | 2 | \n",
    "| 3 | 2 | **3** | 4 | 2 | \n",
    "|**Z**  |\n",
    "| 1 | 0 | 1 | 1 | 0 |\n",
    "| 2 | 1 | 0 | 1 | 0 | \n",
    "| 3 | 0 | 0 | 0 | 0 |\n",
    "|**w**  |\n",
    "| 1 | 30% | 0%  | 0%  | 70% |\n",
    "| 2 | 30% | 15% | 0%  | 55% |\n",
    "| 3 | 20% | 15% | 10% | 55% |\n",
    "\n",
    "The bolded number is 3 (because it is hypothetical), but should be 2 if it represents the truth."
   ]
  },
  {
   "cell_type": "markdown",
   "metadata": {},
   "source": [
    "### Existing Methods\n",
    "\n",
    "- THetA considers only subclonal copy numbers\n",
    "- TrAp emphasizes identifiability and sufficient sample size for unique mathematical solutions\n",
    "- SciClone and Clomial assume a binary matrix, focusing on SNVs at copy neutral regions with heterozygous mutations\n",
    "- PhyloSub and PhyloWGS consider possible genotypes at SNVs accounting for potential copy number changes and phylogenetic constraints\n",
    "- CloneHD provides inference that is **similar to our method** but **assumes the availability of data from matched normal samples**\n",
    "    - provides only point estimates of the subclonal copy numbers and subclonal mutations\n",
    "- PyClone and CHAT adjust the estimation of subclonal cellular fractions for both CNVs and SNVs\n",
    "    - stop short of directly inferring subclonal copy numbers or variant allele counts"
   ]
  },
  {
   "cell_type": "markdown",
   "metadata": {
    "collapsed": true
   },
   "source": [
    "# Method\n",
    "\n",
    "- $S$: number of Loci (known and fixed)\n",
    "- $C$: number of subclones (unknown & random)\n",
    "- $\\underset{S\\times C}{L}$: integer-valued random matrix to characterize subclonal copy numbers\n",
    "    - $l_{sc} = $ the number of alleles (aka copy number) at loci $s$ for subclone $c$.\n",
    "    - prior for $L$ is a finite version of categorical-IBP (CIBP)\n",
    "- $\\underset{S\\times C}{Z}$: integer-valued random matrix to record SNVs\n",
    "    - $z_{sc} = $ the number of alleles that bear a variant sequence (w.r.t. a reference / normal clone) at loci $s$ for subclone $c$.\n",
    "    - $z_{sc} \\le l_{sc}$, just think about it\n",
    "- $\\displaystyle\\frac{z_{sc}}{l_{sc}} = $ the VAF at loci $s$ for subclone $c$\n",
    "- $w$: Cellular fractions of the subclones??? **Not really sure about this**.\n",
    "\n"
   ]
  },
  {
   "cell_type": "code",
   "execution_count": null,
   "metadata": {
    "collapsed": true
   },
   "outputs": [],
   "source": []
  }
 ],
 "metadata": {
  "kernelspec": {
   "display_name": "Julia 0.5.0",
   "language": "julia",
   "name": "julia-0.5"
  },
  "language_info": {
   "file_extension": ".jl",
   "mimetype": "application/julia",
   "name": "julia",
   "version": "0.5.0"
  }
 },
 "nbformat": 4,
 "nbformat_minor": 0
}
