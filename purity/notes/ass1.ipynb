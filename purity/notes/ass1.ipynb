{
 "cells": [
  {
   "cell_type": "markdown",
   "metadata": {},
   "source": [
    "Open in [nbviewer](https://nbviewer.jupyter.org/github/luiarthur/ucsc_litreview/blob/master/notes/ass1.ipynb)\n",
    "$\n",
    "% Latex definitions\n",
    "% note: Ctrl-shfit-p for shortcuts menu\n",
    "\\newcommand{\\iid}{\\overset{iid}{\\sim}}\n",
    "\\newcommand{\\ind}{\\overset{ind}{\\sim}}\n",
    "\\newcommand{\\p}[1]{\\left(#1\\right)}\n",
    "\\newcommand{\\bk}[1]{\\left[#1\\right]}\n",
    "\\newcommand{\\bc}[1]{ \\left\\{#1\\right\\} }\n",
    "\\newcommand{\\abs}[1]{ \\left|#1\\right| }\n",
    "\\newcommand{\\norm}[1]{ \\left|\\left|#1\\right|\\right| }\n",
    "\\newcommand{\\E}{ \\text{E} }\n",
    "\\newcommand{\\N}{ \\mathcal N }\n",
    "\\newcommand{\\ds}{ \\displaystyle }\n",
    "\\newcommand{\\given}{\\bigg{|}}\n",
    "\\newcommand{\\Bin}{\\text{Bin}}\n",
    "\\newcommand{\\Poi}{\\text{Poi}}\n",
    "\\newcommand{\\sums}{\\sum_{s=1}^S}\n",
    "\\newcommand{\\prods}{\\prod_{s=1}^S}\n",
    "$"
   ]
  },
  {
   "cell_type": "markdown",
   "metadata": {},
   "source": [
    "# Derive Full Conditionals in Assignment 1\n",
    "\n",
    "### Sampling Distribution\n",
    "$$\n",
    "\\begin{split}\n",
    "n_{1s} \\mid \\N_{1s}, p_{s} &\\sim& \\Bin(N_{1s}, p_{s}) \\\\\n",
    "\\log\\p{\\frac{N_{1s}}{N_{0s}}} ~\\given~ \\mu, \\phi_s, M_s, \\sigma^2 &\\sim& \\N\\p{\\log\\p{\\frac{2(1-\\mu)+\\mu M_s}{2}}+\\phi_s, \\sigma^2}\\\\\n",
    "\\end{split}\n",
    "$$\n",
    "where $p_s = \\ds\\frac{\\mu v_s M_s}{2(1-\\mu)+\\mu M_s}$.\n",
    "\n",
    "### Priors\n",
    "$$\n",
    "\\begin{split}\n",
    "\\mu &\\sim \\text{Beta}(a_\\mu,b_\\mu)\\\\\n",
    "\\sigma^2 &\\sim \\text{IG}(a_\\sigma,b_\\sigma)\\\\\n",
    "\\phi_s &\\sim \\mathcal{N}(m_\\phi,s^2_\\phi) \\\\\n",
    "v_s \\mid G &\\sim G \\\\\n",
    "G &\\sim \\text{DP}(\\alpha,G_0) \\\\\n",
    "\\end{split}\n",
    "$$\n",
    "\n"
   ]
  },
  {
   "cell_type": "markdown",
   "metadata": {},
   "source": [
    "### Likelihood\n",
    "$$\n",
    "\\mathcal{L}(\\mu,\\sigma^2,\\phi,v,G~\\mid~n_{1s},N_{1s}) \\propto \\ds\\prod_{s=1}^S \\mathcal{L}_1(\\mu,v_s~|~n_{1s},N_{1s})\\mathcal{L}_2(\\mu,\\phi_s,\\sigma^2~|~N_{1s},N_{0s})\n",
    "$$\n"
   ]
  },
  {
   "cell_type": "markdown",
   "metadata": {},
   "source": [
    "### Joint Posterior\n",
    "$$\n",
    "p(\\mu,\\sigma^2, \\phi, v, G ~|~ \\text{Data}) \\sim \\mathcal{L}(\\mu,\\sigma^2,\\phi,v,G~|~n_{1s},N_{1s}) \\times p(\\mu)~p(\\sigma^2)~p(\\phi)~p(v|G)~p(G)\n",
    "$$\n",
    " \n",
    "Note that the marginal posterior $p(\\mu,\\sigma^2, \\phi, v ~|~ \\text{Data})$ can be obtained after integrating $G$ over its DP prior (Blackwell & McQueen, 1973).\n"
   ]
  },
  {
   "cell_type": "markdown",
   "metadata": {},
   "source": [
    "### Full Conditionals\n",
    "$$\n",
    "\\begin{split}\n",
    "p(\\sigma^2 ~|~ ...) &\\propto \\prod_{s=1}^S \\mathcal{L}_2(\\mu,\\phi_s,\\sigma^2 ~|~ N_{1s}, N_{0s}) \\times p(\\sigma^2)\\\\\n",
    "&\\propto \\p{\\sigma^2}^{-S/2}\\exp\\bc{\\ds-\\frac{\\p{\\log(N_{1s}/N{_0s})}^2}{2\\sigma^2}}\n",
    "\\end{split}\n",
    "$$"
   ]
  },
  {
   "cell_type": "markdown",
   "metadata": {},
   "source": []
  },
  {
   "cell_type": "markdown",
   "metadata": {
    "collapsed": true
   },
   "source": [
    "### Likelihood \n",
    "$$\n",
    "\\begin{split}\n",
    "n_{1s} \\mid \\N_{1s}, p_{s} &\\sim& \\Bin(N_{1s}, p_{s}) \\\\\n",
    "\\log\\p{\\frac{N_{1s}}{N_{0s}}} ~\\given~ \\mu, \\phi_s, M_s, \\sigma^2 &\\sim& \\N\\p{\\log\\p{\\frac{2(1-\\mu)+\\mu M_s}{2}}+\\phi_s, \\sigma^2}\\\\\n",
    "\\end{split}\n",
    "$$\n",
    "where $p_s = \\ds\\frac{\\mu v_s M_s}{2(1-\\mu)+\\mu M_s}$.\n",
    "\n",
    "***\n",
    "\n",
    "$$\n",
    "\\begin{array}{rcl}\n",
    "\\sigma^2 \\mid ... &\\sim& IG\\ds\\p{a_\\sigma+\\frac{S}{2}, b_\\sigma + \\frac{\\sums \\bk{\\phi_s - \\log y_s}^2}{2}}\\\\\n",
    "\\phi \\mid ... &\\sim& \\N\\p{\\ds\\frac{m_\\phi\\sigma^2+(\\log y_s)s_\\phi^2}{s_\\phi^2+\\sigma^2},\\ds\\frac{s_\\phi^2\\sigma^2}{s_\\phi^2+\\sigma^2}} \\\\\n",
    "p(\\mu\\mid...) &\\propto& \\ds\\prods p_s^{n_{1s}}(1-p_s)^{N_{1s}-n_{1s}} z_s^{y_s} \\exp\\p{\\frac{\\log(z_s)^2}{-2}}\\\\\n",
    "%G\\mid... &\\sim&  DP(\\alpha+n, \\tilde{G_0}) \\\\\n",
    "p(v_s\\mid...) &\\propto& \\alpha ~ p(n_{1s}|N_{1s}, u_s v_s) ~ g_0(v_s) + \\sum_{j=1}^{n^{*-}} n_j^{-} p(n_{1s}|N_{1s}, u_s v_j^{*-}) ~ \\delta_{v_j^{*-}} (v_s)\\\\\n",
    "\\end{array}\n",
    "$$\n",
    "\n",
    "where \n",
    "- $y_s = \\ds\\frac{N_{1s}}{N_{0s}z_s}$\n",
    "- $z_s = \\ds\\frac{2(1-\\mu)+\\mu M_s}{2}$ \n",
    "- $\\tilde{G_0}(x) = \\ds\\frac{\\alpha}{\\alpha+n}G_0(x)+\\frac{1}{\\alpha+n} \\sums1_{[v_s,\\infty)}(x)$ is baseline CDF for $(G\\mid...)$.\n",
    "- $u_s = \\ds\\frac{\\mu M_s}{2(1-\\mu)+\\mu M_s}$"
   ]
  },
  {
   "cell_type": "code",
   "execution_count": null,
   "metadata": {
    "collapsed": true
   },
   "outputs": [],
   "source": []
  }
 ],
 "metadata": {
  "kernelspec": {
   "display_name": "Julia 0.5.0",
   "language": "julia",
   "name": "julia-0.5"
  },
  "language_info": {
   "file_extension": ".jl",
   "mimetype": "application/julia",
   "name": "julia",
   "version": "0.5.0"
  }
 },
 "nbformat": 4,
 "nbformat_minor": 0
}
